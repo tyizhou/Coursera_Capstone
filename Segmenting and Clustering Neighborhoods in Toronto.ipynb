{
 "cells": [
  {
   "cell_type": "markdown",
   "metadata": {},
   "source": [
    "This notebook presents my work for the **Peer-graded Assignment: Segmenting and Clustering Neighborhoods in Toronto** as part of **Applied Data Science Capstone**."
   ]
  },
  {
   "cell_type": "markdown",
   "metadata": {},
   "source": [
    "Import needed libraries."
   ]
  },
  {
   "cell_type": "code",
   "execution_count": 72,
   "metadata": {},
   "outputs": [],
   "source": [
    "import pandas as pd\n",
    "import urllib.request\n",
    "import html5lib\n",
    "import numpy as np\n",
    "from bs4 import BeautifulSoup"
   ]
  },
  {
   "cell_type": "markdown",
   "metadata": {},
   "source": [
    "Get html content from the wikipedia page."
   ]
  },
  {
   "cell_type": "code",
   "execution_count": null,
   "metadata": {
    "scrolled": false
   },
   "outputs": [],
   "source": [
    "p_can_url = 'https://en.wikipedia.org/wiki/List_of_postal_codes_of_Canada:_M'\n",
    "fp = urllib.request.urlopen(p_can_url)\n",
    "p_can_html = fp.read()\n",
    "p_can_html = p_can_html.decode(\"utf8\")\n",
    "fp.close()\n",
    "p_can = BeautifulSoup(p_can_html)"
   ]
  },
  {
   "cell_type": "markdown",
   "metadata": {},
   "source": [
    "Get the postcode and neighbourhood table from the html content, and delete the rows where Borough equals Not assigned."
   ]
  },
  {
   "cell_type": "code",
   "execution_count": 70,
   "metadata": {},
   "outputs": [
    {
     "data": {
      "text/html": [
       "<div>\n",
       "<style scoped>\n",
       "    .dataframe tbody tr th:only-of-type {\n",
       "        vertical-align: middle;\n",
       "    }\n",
       "\n",
       "    .dataframe tbody tr th {\n",
       "        vertical-align: top;\n",
       "    }\n",
       "\n",
       "    .dataframe thead th {\n",
       "        text-align: right;\n",
       "    }\n",
       "</style>\n",
       "<table border=\"1\" class=\"dataframe\">\n",
       "  <thead>\n",
       "    <tr style=\"text-align: right;\">\n",
       "      <th></th>\n",
       "      <th>Postcode</th>\n",
       "      <th>Borough</th>\n",
       "      <th>Neighbourhood</th>\n",
       "    </tr>\n",
       "  </thead>\n",
       "  <tbody>\n",
       "    <tr>\n",
       "      <th>3</th>\n",
       "      <td>M3A</td>\n",
       "      <td>North York</td>\n",
       "      <td>Parkwoods</td>\n",
       "    </tr>\n",
       "    <tr>\n",
       "      <th>4</th>\n",
       "      <td>M4A</td>\n",
       "      <td>North York</td>\n",
       "      <td>Victoria Village</td>\n",
       "    </tr>\n",
       "    <tr>\n",
       "      <th>5</th>\n",
       "      <td>M5A</td>\n",
       "      <td>Downtown Toronto</td>\n",
       "      <td>Harbourfront</td>\n",
       "    </tr>\n",
       "    <tr>\n",
       "      <th>6</th>\n",
       "      <td>M5A</td>\n",
       "      <td>Downtown Toronto</td>\n",
       "      <td>Regent Park</td>\n",
       "    </tr>\n",
       "    <tr>\n",
       "      <th>7</th>\n",
       "      <td>M6A</td>\n",
       "      <td>North York</td>\n",
       "      <td>Lawrence Heights</td>\n",
       "    </tr>\n",
       "  </tbody>\n",
       "</table>\n",
       "</div>"
      ],
      "text/plain": [
       "  Postcode           Borough     Neighbourhood\n",
       "3      M3A        North York         Parkwoods\n",
       "4      M4A        North York  Victoria Village\n",
       "5      M5A  Downtown Toronto      Harbourfront\n",
       "6      M5A  Downtown Toronto       Regent Park\n",
       "7      M6A        North York  Lawrence Heights"
      ]
     },
     "execution_count": 70,
     "metadata": {},
     "output_type": "execute_result"
    }
   ],
   "source": [
    "df_p_can = []\n",
    "for tr in p_can.table.find_all('tr'):\n",
    "    td = tr.find_all('td')\n",
    "    row = [tr.text for tr in td]\n",
    "    df_p_can.append(row)\n",
    "df_p_can=pd.DataFrame(df_p_can,columns=['Postcode','Borough','Neighbourhood'])\n",
    "df_p_can=df_p_can[df_p_can['Borough']!='Not assigned']\n",
    "df_p_can=df_p_can[df_p_can.Borough.notnull()]\n",
    "df_p_can['Neighbourhood']=df_p_can['Neighbourhood'].replace({'\\n':''}, regex=True)\n",
    "df_p_can.head()"
   ]
  },
  {
   "cell_type": "markdown",
   "metadata": {},
   "source": [
    "If Neighbourhood is Not assigned, name it with the name of Borough."
   ]
  },
  {
   "cell_type": "code",
   "execution_count": 74,
   "metadata": {},
   "outputs": [],
   "source": [
    "df_p_can['Neighbourhood'] = np.where(df_p_can['Neighbourhood'] == 'Not assigned', df_p_can['Borough'], df_p_can['Neighbourhood'])"
   ]
  },
  {
   "cell_type": "markdown",
   "metadata": {},
   "source": [
    "Combine Neighbourhoods with the same Borough into one cell, and split using commas."
   ]
  },
  {
   "cell_type": "code",
   "execution_count": 76,
   "metadata": {},
   "outputs": [],
   "source": [
    "df_p_can=df_p_can.groupby('Borough')['Neighbourhood'].apply(','.join).reset_index()"
   ]
  },
  {
   "cell_type": "markdown",
   "metadata": {},
   "source": [
    "View table and the size of the table."
   ]
  },
  {
   "cell_type": "code",
   "execution_count": 78,
   "metadata": {},
   "outputs": [
    {
     "name": "stdout",
     "output_type": "stream",
     "text": [
      "             Borough                                      Neighbourhood\n",
      "0    Central Toronto  Lawrence Park,Roselawn,Davisville North,Forest...\n",
      "1   Downtown Toronto  Harbourfront,Regent Park,Ryerson,Garden Distri...\n",
      "2       East Toronto  The Beaches,The Danforth West,Riverdale,The Be...\n",
      "3          East York  Woodbine Gardens,Parkview Hill,Woodbine Height...\n",
      "4          Etobicoke  Islington Avenue,Cloverdale,Islington,Martin G...\n",
      "5        Mississauga              Canada Post Gateway Processing Centre\n",
      "6         North York  Parkwoods,Victoria Village,Lawrence Heights,La...\n",
      "7       Queen's Park                                       Queen's Park\n",
      "8        Scarborough  Rouge,Malvern,Highland Creek,Rouge Hill,Port U...\n",
      "9       West Toronto  Dovercourt Village,Dufferin,Little Portugal,Tr...\n",
      "10              York  Humewood-Cedarvale,Caledonia-Fairbanks,Del Ray...\n"
     ]
    }
   ],
   "source": [
    "df_p_can.shape\n",
    "print(df_p_can)"
   ]
  }
 ],
 "metadata": {
  "kernelspec": {
   "display_name": "Python 3",
   "language": "python",
   "name": "python3"
  },
  "language_info": {
   "codemirror_mode": {
    "name": "ipython",
    "version": 3
   },
   "file_extension": ".py",
   "mimetype": "text/x-python",
   "name": "python",
   "nbconvert_exporter": "python",
   "pygments_lexer": "ipython3",
   "version": "3.6.4"
  }
 },
 "nbformat": 4,
 "nbformat_minor": 2
}
