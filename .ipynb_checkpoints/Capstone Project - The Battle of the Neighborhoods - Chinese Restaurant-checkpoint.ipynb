{
 "cells": [
  {
   "cell_type": "markdown",
   "metadata": {},
   "source": [
    "# Capstone Project - The Battle of the Neighborhoods\n",
    "### Applied Data Science Capstone by IBM/Coursera"
   ]
  },
  {
   "cell_type": "markdown",
   "metadata": {},
   "source": [
    "## Table of contents\n",
    "* [Introduction: Business Problem](#introduction)\n",
    "* [Data](#data)"
   ]
  },
  {
   "cell_type": "markdown",
   "metadata": {},
   "source": [
    "## Introduction: Business Problem <a name=\"introduction\"></a>"
   ]
  },
  {
   "cell_type": "markdown",
   "metadata": {},
   "source": [
    "In this project we will try to find an optimal location for a restaurant. Specifically, this report will be targeted to stakeholders interested in opening an **Chinese restaurant** in **Toronto**, Canada, the number of whom is increasing because of the fast growth of Chinese population in the city.\n",
    "\n",
    "Since there are lots of restaurants in Toronto we will try to detect **locations that are not already crowded with restaurants**. We are also particularly interested in **areas with no or few Chinese restaurants in vicinity**. We would also prefer locations **as close to city center (downtown Toronto) as possible**, assuming that first two conditions are met.\n",
    "\n",
    "We will use our data science powers to generate a few most promissing neighborhoods based on this criteria. Advantages of each area will then be clearly expressed so that best possible final location can be chosen by stakeholders."
   ]
  },
  {
   "cell_type": "markdown",
   "metadata": {},
   "source": [
    "## Data <a name=\"data\"></a>"
   ]
  },
  {
   "cell_type": "markdown",
   "metadata": {},
   "source": [
    "Based on definition of our problem, factors that will influence our decission are:\n",
    "* number of existing restaurants in the neighborhood (any type of restaurant)\n",
    "* number of and distance to Chinese restaurants in the neighborhood, if any\n",
    "* review of the Chinese restaurants in the neighborhood, if any\n",
    "* distance of neighborhood from city center\n",
    "\n",
    "We decided to use definition from [this wikipedia link](https://en.wikipedia.org/wiki/List_of_postal_codes_of_Canada:_M) to define our neighborhoods.\n",
    "\n",
    "Following data sources will be needed to extract/generate the required information:\n",
    "* number of restaurants and their type, review and location in every neighborhood will be obtained using **Foursquare API**\n",
    "* coordinate of Toronto neighborhood will be obtained using a csv file input"
   ]
  },
  {
   "cell_type": "markdown",
   "metadata": {},
   "source": [
    "### Neighborhood in Toronto\n",
    "\n",
    "We download the neighborhood table from the wikipedia page, the table contains all neighborhoods in Canada, therefore we extract the ones only from Toronto, and attach the coordinates of the neighborhoods using a csv file."
   ]
  },
  {
   "cell_type": "code",
   "execution_count": 6,
   "metadata": {},
   "outputs": [
    {
     "name": "stderr",
     "output_type": "stream",
     "text": [
      "F:\\Anaconda3\\lib\\site-packages\\bs4\\__init__.py:181: UserWarning: No parser was explicitly specified, so I'm using the best available HTML parser for this system (\"lxml\"). This usually isn't a problem, but if you run this code on another system, or in a different virtual environment, it may use a different parser and behave differently.\n",
      "\n",
      "The code that caused this warning is on line 193 of the file F:\\Anaconda3\\lib\\runpy.py. To get rid of this warning, change code that looks like this:\n",
      "\n",
      " BeautifulSoup(YOUR_MARKUP})\n",
      "\n",
      "to this:\n",
      "\n",
      " BeautifulSoup(YOUR_MARKUP, \"lxml\")\n",
      "\n",
      "  markup_type=markup_type))\n"
     ]
    },
    {
     "data": {
      "text/html": [
       "<div>\n",
       "<style scoped>\n",
       "    .dataframe tbody tr th:only-of-type {\n",
       "        vertical-align: middle;\n",
       "    }\n",
       "\n",
       "    .dataframe tbody tr th {\n",
       "        vertical-align: top;\n",
       "    }\n",
       "\n",
       "    .dataframe thead th {\n",
       "        text-align: right;\n",
       "    }\n",
       "</style>\n",
       "<table border=\"1\" class=\"dataframe\">\n",
       "  <thead>\n",
       "    <tr style=\"text-align: right;\">\n",
       "      <th></th>\n",
       "      <th>Postcode</th>\n",
       "      <th>Borough</th>\n",
       "      <th>Neighborhood</th>\n",
       "      <th>Latitude</th>\n",
       "      <th>Longitude</th>\n",
       "    </tr>\n",
       "  </thead>\n",
       "  <tbody>\n",
       "    <tr>\n",
       "      <th>37</th>\n",
       "      <td>M4E</td>\n",
       "      <td>East Toronto</td>\n",
       "      <td>The Beaches</td>\n",
       "      <td>43.676357</td>\n",
       "      <td>-79.293031</td>\n",
       "    </tr>\n",
       "    <tr>\n",
       "      <th>41</th>\n",
       "      <td>M4K</td>\n",
       "      <td>East Toronto</td>\n",
       "      <td>The Danforth West,Riverdale</td>\n",
       "      <td>43.679557</td>\n",
       "      <td>-79.352188</td>\n",
       "    </tr>\n",
       "    <tr>\n",
       "      <th>42</th>\n",
       "      <td>M4L</td>\n",
       "      <td>East Toronto</td>\n",
       "      <td>The Beaches West,India Bazaar</td>\n",
       "      <td>43.668999</td>\n",
       "      <td>-79.315572</td>\n",
       "    </tr>\n",
       "    <tr>\n",
       "      <th>43</th>\n",
       "      <td>M4M</td>\n",
       "      <td>East Toronto</td>\n",
       "      <td>Studio District</td>\n",
       "      <td>43.659526</td>\n",
       "      <td>-79.340923</td>\n",
       "    </tr>\n",
       "    <tr>\n",
       "      <th>44</th>\n",
       "      <td>M4N</td>\n",
       "      <td>Central Toronto</td>\n",
       "      <td>Lawrence Park</td>\n",
       "      <td>43.728020</td>\n",
       "      <td>-79.388790</td>\n",
       "    </tr>\n",
       "  </tbody>\n",
       "</table>\n",
       "</div>"
      ],
      "text/plain": [
       "   Postcode          Borough                   Neighborhood   Latitude  \\\n",
       "37      M4E     East Toronto                    The Beaches  43.676357   \n",
       "41      M4K     East Toronto    The Danforth West,Riverdale  43.679557   \n",
       "42      M4L     East Toronto  The Beaches West,India Bazaar  43.668999   \n",
       "43      M4M     East Toronto                Studio District  43.659526   \n",
       "44      M4N  Central Toronto                  Lawrence Park  43.728020   \n",
       "\n",
       "    Longitude  \n",
       "37 -79.293031  \n",
       "41 -79.352188  \n",
       "42 -79.315572  \n",
       "43 -79.340923  \n",
       "44 -79.388790  "
      ]
     },
     "execution_count": 6,
     "metadata": {},
     "output_type": "execute_result"
    }
   ],
   "source": [
    "import pandas as pd\n",
    "import urllib.request\n",
    "import html5lib\n",
    "import numpy as np\n",
    "from bs4 import BeautifulSoup\n",
    "\n",
    "p_can_url = 'https://en.wikipedia.org/wiki/List_of_postal_codes_of_Canada:_M'\n",
    "fp = urllib.request.urlopen(p_can_url)\n",
    "p_can_html = fp.read()\n",
    "p_can_html = p_can_html.decode(\"utf8\")\n",
    "fp.close()\n",
    "p_can = BeautifulSoup(p_can_html)\n",
    "\n",
    "df_p_can = []\n",
    "for tr in p_can.table.find_all('tr'):\n",
    "    td = tr.find_all('td')\n",
    "    row = [tr.text for tr in td]\n",
    "    df_p_can.append(row)\n",
    "df_p_can=pd.DataFrame(df_p_can,columns=['Postcode','Borough','Neighborhood'])\n",
    "df_p_can=df_p_can[df_p_can['Borough']!='Not assigned']\n",
    "df_p_can=df_p_can[df_p_can.Borough.notnull()]\n",
    "df_p_can['Neighborhood']=df_p_can['Neighborhood'].replace({'\\n':''}, regex=True)\n",
    "\n",
    "df_p_can['Neighborhood'] = np.where(df_p_can['Neighborhood'] == 'Not assigned', df_p_can['Borough'], df_p_can['Neighborhood'])\n",
    "df_p_can=df_p_can.groupby(['Postcode','Borough'])['Neighborhood'].apply(','.join).reset_index()\n",
    "coord = pd.read_csv('http://cocl.us/Geospatial_data')\n",
    "df_coord_can=pd.merge(df_p_can, coord, left_on='Postcode', right_on='Postal Code').drop(['Postal Code'], axis=1)\n",
    "\n",
    "df_t=df_coord_can[df_coord_can['Borough'].isin(['Downtown Toronto','East Toronto','West Toronto','Central Toronto'])]\n",
    "df_t.reset_index()\n",
    "df_t.head()"
   ]
  },
  {
   "cell_type": "markdown",
   "metadata": {},
   "source": [
    "The data looks good, now we have all the neighborhoods in Toronto and their coordinates."
   ]
  },
  {
   "cell_type": "markdown",
   "metadata": {},
   "source": [
    "### Foursquare\n",
    "\n",
    "Now that we have our neighborhoods data, we can use Foursquare API to get info on (Chinese) restaurants in each neighborhood.\n",
    "\n",
    "From the API we will get a list of the restaurants, and their types, locations, reviews. And from the list we could feature the neighborhoods with the number of restaurants, the number of Chinese restaurants, average review of the restaurants, and along with their distance to the city center. Using the features, we can cluster the neighborhoods and identify the best (group of) neighborhoods for openning a Chinese restaurant."
   ]
  },
  {
   "cell_type": "code",
   "execution_count": null,
   "metadata": {},
   "outputs": [],
   "source": []
  }
 ],
 "metadata": {
  "kernelspec": {
   "display_name": "Python 3",
   "language": "python",
   "name": "python3"
  },
  "language_info": {
   "codemirror_mode": {
    "name": "ipython",
    "version": 3
   },
   "file_extension": ".py",
   "mimetype": "text/x-python",
   "name": "python",
   "nbconvert_exporter": "python",
   "pygments_lexer": "ipython3",
   "version": "3.6.4"
  }
 },
 "nbformat": 4,
 "nbformat_minor": 2
}
